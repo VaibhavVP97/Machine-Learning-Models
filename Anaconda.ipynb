{
 "cells": [
  {
   "cell_type": "markdown",
   "id": "intelligent-institute",
   "metadata": {},
   "source": [
    "# Anaconda"
   ]
  },
  {
   "cell_type": "code",
   "execution_count": null,
   "id": "native-congo",
   "metadata": {},
   "outputs": [],
   "source": [
    "HPP:\n",
    "    1. sklearn\n",
    "    2. matplotlib\n",
    "    3. seaborn\n",
    "    4. pandas\n",
    "    5. numpy\n",
    "    \n",
    "hpp_conda_env.yml\n",
    "    \n",
    "python 3.5\n",
    "python 3.9\n",
    "\n",
    "IMage Classification:\n",
    "    1. tensorflow  1.14 ,\n",
    "    tensorflow 2.4.1\n",
    "    2. pandas\n",
    "    3. numpy\n",
    "    "
   ]
  },
  {
   "cell_type": "markdown",
   "id": "romance-ranch",
   "metadata": {},
   "source": [
    "# Anaconda Commands"
   ]
  },
  {
   "cell_type": "markdown",
   "id": "happy-annotation",
   "metadata": {},
   "source": [
    "## 1. Create Conda env\n"
   ]
  },
  {
   "cell_type": "code",
   "execution_count": null,
   "id": "understanding-monkey",
   "metadata": {},
   "outputs": [],
   "source": [
    "conda create -n env_name\n",
    "conda env create -f env_file.yml"
   ]
  },
  {
   "cell_type": "markdown",
   "id": "healthy-adoption",
   "metadata": {},
   "source": [
    "## 2. Activate Conda env"
   ]
  },
  {
   "cell_type": "raw",
   "id": "indonesian-sheriff",
   "metadata": {},
   "source": [
    "conda activate env_name"
   ]
  },
  {
   "cell_type": "markdown",
   "id": "above-syndicate",
   "metadata": {},
   "source": [
    "## 3. Deactivate Conda env"
   ]
  },
  {
   "cell_type": "code",
   "execution_count": null,
   "id": "employed-offer",
   "metadata": {},
   "outputs": [],
   "source": [
    "conda deactivate env_name\n",
    "conda deactivate"
   ]
  },
  {
   "cell_type": "markdown",
   "id": "south-attribute",
   "metadata": {},
   "source": [
    "## 4.  Install Python Libraries"
   ]
  },
  {
   "cell_type": "raw",
   "id": "interested-farmer",
   "metadata": {},
   "source": [
    "conda install -c anaconda pandas"
   ]
  },
  {
   "cell_type": "markdown",
   "id": "regulation-wilderness",
   "metadata": {},
   "source": [
    "# 5. Create conda env file"
   ]
  },
  {
   "cell_type": "raw",
   "id": "progressive-appointment",
   "metadata": {},
   "source": [
    "conda env export > house_price.yml"
   ]
  },
  {
   "cell_type": "markdown",
   "id": "adverse-relief",
   "metadata": {},
   "source": [
    "# 6. Create conda env using yml file"
   ]
  },
  {
   "cell_type": "raw",
   "id": "african-bailey",
   "metadata": {},
   "source": [
    "conda env create -f env_file.yml"
   ]
  },
  {
   "cell_type": "markdown",
   "id": "unknown-charles",
   "metadata": {},
   "source": [
    "# 7. List of conda env"
   ]
  },
  {
   "cell_type": "code",
   "execution_count": null,
   "id": "provincial-plaza",
   "metadata": {},
   "outputs": [],
   "source": [
    "1. conda env list\n",
    "2. conda info -a\n",
    "3. conda info --envs"
   ]
  },
  {
   "cell_type": "markdown",
   "id": "processed-above",
   "metadata": {},
   "source": [
    "# 8. Delete conda env"
   ]
  },
  {
   "cell_type": "code",
   "execution_count": null,
   "id": "subsequent-vietnam",
   "metadata": {},
   "outputs": [],
   "source": [
    "conda env remove -n env_name"
   ]
  },
  {
   "cell_type": "code",
   "execution_count": 2,
   "id": "c0f968a5",
   "metadata": {},
   "outputs": [
    {
     "name": "stdout",
     "output_type": "stream",
     "text": [
      "Requirement already satisfied: sklearn in c:\\programdata\\anaconda3\\lib\\site-packages (0.0)Note: you may need to restart the kernel to use updated packages.\n",
      "Requirement already satisfied: scikit-learn in c:\\programdata\\anaconda3\\lib\\site-packages (from sklearn) (0.24.1)\n",
      "Requirement already satisfied: scipy>=0.19.1 in c:\\programdata\\anaconda3\\lib\\site-packages (from scikit-learn->sklearn) (1.6.2)\n",
      "Requirement already satisfied: joblib>=0.11 in c:\\programdata\\anaconda3\\lib\\site-packages (from scikit-learn->sklearn) (1.0.1)\n",
      "Requirement already satisfied: numpy>=1.13.3 in c:\\programdata\\anaconda3\\lib\\site-packages (from scikit-learn->sklearn) (1.20.1)\n",
      "Requirement already satisfied: threadpoolctl>=2.0.0 in c:\\programdata\\anaconda3\\lib\\site-packages (from scikit-learn->sklearn) (2.1.0)\n",
      "\n"
     ]
    }
   ],
   "source": [
    "pip install sklearn"
   ]
  },
  {
   "cell_type": "code",
   "execution_count": null,
   "id": "909c70da",
   "metadata": {},
   "outputs": [],
   "source": []
  },
  {
   "cell_type": "code",
   "execution_count": null,
   "id": "17b2e444",
   "metadata": {},
   "outputs": [],
   "source": []
  }
 ],
 "metadata": {
  "kernelspec": {
   "display_name": "Python 3",
   "language": "python",
   "name": "python3"
  },
  "language_info": {
   "codemirror_mode": {
    "name": "ipython",
    "version": 3
   },
   "file_extension": ".py",
   "mimetype": "text/x-python",
   "name": "python",
   "nbconvert_exporter": "python",
   "pygments_lexer": "ipython3",
   "version": "3.8.8"
  }
 },
 "nbformat": 4,
 "nbformat_minor": 5
}

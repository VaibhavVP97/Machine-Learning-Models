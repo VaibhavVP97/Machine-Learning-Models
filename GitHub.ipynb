{
 "cells": [
  {
   "cell_type": "markdown",
   "id": "suspended-filename",
   "metadata": {},
   "source": [
    "# GitHub"
   ]
  },
  {
   "cell_type": "markdown",
   "id": "excellent-following",
   "metadata": {},
   "source": [
    "# 1. clone repo"
   ]
  },
  {
   "cell_type": "code",
   "execution_count": null,
   "id": "southern-antique",
   "metadata": {},
   "outputs": [],
   "source": [
    "git clone url\n",
    "git clone https://github.com/rdkendre28/bangalore_hpp.git"
   ]
  },
  {
   "cell_type": "markdown",
   "id": "cleared-classic",
   "metadata": {},
   "source": [
    "# 2. Check Status "
   ]
  },
  {
   "cell_type": "raw",
   "id": "interim-negative",
   "metadata": {},
   "source": [
    "git status"
   ]
  },
  {
   "cell_type": "markdown",
   "id": "sealed-premiere",
   "metadata": {},
   "source": [
    "# 3. add files"
   ]
  },
  {
   "cell_type": "code",
   "execution_count": null,
   "id": "respective-newman",
   "metadata": {},
   "outputs": [],
   "source": [
    "git add file/folder_name\n",
    "git add .  # to add all files\n",
    "git add --all  # To add all files"
   ]
  },
  {
   "cell_type": "markdown",
   "id": "powerful-credit",
   "metadata": {},
   "source": [
    "# 4. Commit your changes "
   ]
  },
  {
   "cell_type": "code",
   "execution_count": null,
   "id": "offensive-valley",
   "metadata": {},
   "outputs": [],
   "source": [
    "git commit -m \"your msg\"\n"
   ]
  },
  {
   "cell_type": "markdown",
   "id": "challenging-dancing",
   "metadata": {},
   "source": [
    "# 5. Push "
   ]
  },
  {
   "cell_type": "code",
   "execution_count": null,
   "id": "industrial-schema",
   "metadata": {},
   "outputs": [],
   "source": [
    "git push\n",
    "git push origin branch_name\n"
   ]
  },
  {
   "cell_type": "markdown",
   "id": "successful-lawrence",
   "metadata": {},
   "source": [
    "# 6. Create New Branch"
   ]
  },
  {
   "cell_type": "raw",
   "id": "secondary-recall",
   "metadata": {},
   "source": [
    "git checkout -b branch_name\n"
   ]
  },
  {
   "cell_type": "markdown",
   "id": "analyzed-voluntary",
   "metadata": {},
   "source": [
    "# 7. Switch Branch"
   ]
  },
  {
   "cell_type": "raw",
   "id": "average-bonus",
   "metadata": {},
   "source": [
    "git checkout branch_name"
   ]
  },
  {
   "cell_type": "markdown",
   "id": "short-ownership",
   "metadata": {},
   "source": [
    "# 8. Pull"
   ]
  },
  {
   "cell_type": "code",
   "execution_count": null,
   "id": "persistent-million",
   "metadata": {},
   "outputs": [],
   "source": [
    "git pull\n",
    "git pull origin branch_name"
   ]
  }
 ],
 "metadata": {
  "kernelspec": {
   "display_name": "Python 3",
   "language": "python",
   "name": "python3"
  },
  "language_info": {
   "codemirror_mode": {
    "name": "ipython",
    "version": 3
   },
   "file_extension": ".py",
   "mimetype": "text/x-python",
   "name": "python",
   "nbconvert_exporter": "python",
   "pygments_lexer": "ipython3",
   "version": "3.8.7"
  }
 },
 "nbformat": 4,
 "nbformat_minor": 5
}
